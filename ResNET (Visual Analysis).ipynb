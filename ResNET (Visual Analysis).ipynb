{
 "cells": [
  {
   "cell_type": "markdown",
   "source": [
    "# RESNET 50 (Visual Analysis)\n",
    "\n",
    "For linear regression for video analysis, we'll be using RESNET 50 for this \n",
    "\n",
    "Essentially for vision models we are looking at frame level embeddings -> then padding by some amount -> Then performing dimensionality reduction until we have two scalar values we're outputing"
   ],
   "metadata": {
    "collapsed": false
   },
   "id": "3479b3e1a8b5f5a1"
  },
  {
   "cell_type": "markdown",
   "source": [
    "## Part 1) Data Preparation\n",
    "\n",
    "Loading in the training and validation sets for storing the models."
   ],
   "metadata": {
    "collapsed": false
   },
   "id": "e3566fac6ff0e50"
  },
  {
   "cell_type": "code",
   "execution_count": 1,
   "outputs": [
    {
     "data": {
      "text/plain": "      Unnamed: 0.1  Unnamed: 0     video_id  virality_score_%  \\\n0             2692        2692  SFArlklGleY          0.512236   \n1              171         171  ftYQJVeOaYg          0.773242   \n2             3296        3296  Yn1H91Smzf0          0.502229   \n3              920         920  t_Nut4StXR0          0.532414   \n4               22          22  8XIAcr6Ph7A          0.816056   \n...            ...         ...          ...               ...   \n2437           768         768  -J3b9tY03UU          0.626388   \n2438          2118        2118  BKN0lkc5VZ8          1.000000   \n2439          3376        3376  z6uKRGliME0          0.502320   \n2440          3870        3870  XNtD1SEy1dA          0.509992   \n2441          1977        1977  x2Zg0eeDT14          1.000000   \n\n      engagement_score_%                                         transcript  \n0               0.797396  s none of them exploded  [Music] okay hi hey M...  \n1               0.773702  what has been like your biggest purchase  prob...  \n2               0.661009  Montero and who's Lon  nzx I think  Montero wa...  \n3               0.937185  the internet is the best thing since  sliced b...  \n4               0.864501  why does r want me to call him do not  tell me...  \n...                  ...                                                ...  \n2437            0.926755  this is the fattest cat I've ever seen  this i...  \n2438            0.646552  one of the best war zone players face  swag re...  \n2439            0.615980  I I just do feel like for very  significant pe...  \n2440            0.706151  you were saying that there's something  about ...  \n2441            0.614486  this is how casual players shoot this is how I...  \n\n[2442 rows x 6 columns]",
      "text/html": "<div>\n<style scoped>\n    .dataframe tbody tr th:only-of-type {\n        vertical-align: middle;\n    }\n\n    .dataframe tbody tr th {\n        vertical-align: top;\n    }\n\n    .dataframe thead th {\n        text-align: right;\n    }\n</style>\n<table border=\"1\" class=\"dataframe\">\n  <thead>\n    <tr style=\"text-align: right;\">\n      <th></th>\n      <th>Unnamed: 0.1</th>\n      <th>Unnamed: 0</th>\n      <th>video_id</th>\n      <th>virality_score_%</th>\n      <th>engagement_score_%</th>\n      <th>transcript</th>\n    </tr>\n  </thead>\n  <tbody>\n    <tr>\n      <th>0</th>\n      <td>2692</td>\n      <td>2692</td>\n      <td>SFArlklGleY</td>\n      <td>0.512236</td>\n      <td>0.797396</td>\n      <td>s none of them exploded  [Music] okay hi hey M...</td>\n    </tr>\n    <tr>\n      <th>1</th>\n      <td>171</td>\n      <td>171</td>\n      <td>ftYQJVeOaYg</td>\n      <td>0.773242</td>\n      <td>0.773702</td>\n      <td>what has been like your biggest purchase  prob...</td>\n    </tr>\n    <tr>\n      <th>2</th>\n      <td>3296</td>\n      <td>3296</td>\n      <td>Yn1H91Smzf0</td>\n      <td>0.502229</td>\n      <td>0.661009</td>\n      <td>Montero and who's Lon  nzx I think  Montero wa...</td>\n    </tr>\n    <tr>\n      <th>3</th>\n      <td>920</td>\n      <td>920</td>\n      <td>t_Nut4StXR0</td>\n      <td>0.532414</td>\n      <td>0.937185</td>\n      <td>the internet is the best thing since  sliced b...</td>\n    </tr>\n    <tr>\n      <th>4</th>\n      <td>22</td>\n      <td>22</td>\n      <td>8XIAcr6Ph7A</td>\n      <td>0.816056</td>\n      <td>0.864501</td>\n      <td>why does r want me to call him do not  tell me...</td>\n    </tr>\n    <tr>\n      <th>...</th>\n      <td>...</td>\n      <td>...</td>\n      <td>...</td>\n      <td>...</td>\n      <td>...</td>\n      <td>...</td>\n    </tr>\n    <tr>\n      <th>2437</th>\n      <td>768</td>\n      <td>768</td>\n      <td>-J3b9tY03UU</td>\n      <td>0.626388</td>\n      <td>0.926755</td>\n      <td>this is the fattest cat I've ever seen  this i...</td>\n    </tr>\n    <tr>\n      <th>2438</th>\n      <td>2118</td>\n      <td>2118</td>\n      <td>BKN0lkc5VZ8</td>\n      <td>1.000000</td>\n      <td>0.646552</td>\n      <td>one of the best war zone players face  swag re...</td>\n    </tr>\n    <tr>\n      <th>2439</th>\n      <td>3376</td>\n      <td>3376</td>\n      <td>z6uKRGliME0</td>\n      <td>0.502320</td>\n      <td>0.615980</td>\n      <td>I I just do feel like for very  significant pe...</td>\n    </tr>\n    <tr>\n      <th>2440</th>\n      <td>3870</td>\n      <td>3870</td>\n      <td>XNtD1SEy1dA</td>\n      <td>0.509992</td>\n      <td>0.706151</td>\n      <td>you were saying that there's something  about ...</td>\n    </tr>\n    <tr>\n      <th>2441</th>\n      <td>1977</td>\n      <td>1977</td>\n      <td>x2Zg0eeDT14</td>\n      <td>1.000000</td>\n      <td>0.614486</td>\n      <td>this is how casual players shoot this is how I...</td>\n    </tr>\n  </tbody>\n</table>\n<p>2442 rows × 6 columns</p>\n</div>"
     },
     "execution_count": 1,
     "metadata": {},
     "output_type": "execute_result"
    }
   ],
   "source": [
    "import pandas as pd\n",
    "\n",
    "# Load data\n",
    "train_df = pd.read_csv('train_set.csv')\n",
    "validation_df = pd.read_csv('validation_set.csv')\n",
    "\n",
    "# Normalize scores\n",
    "train_df['virality_score_%'] /= 100\n",
    "train_df['engagement_score_%'] /= 100\n",
    "\n",
    "train_df"
   ],
   "metadata": {
    "collapsed": false,
    "ExecuteTime": {
     "end_time": "2024-05-22T10:02:58.214196Z",
     "start_time": "2024-05-22T10:02:57.901277Z"
    }
   },
   "id": "493f51c893ae6e06"
  },
  {
   "cell_type": "markdown",
   "source": [
    "# Extractign Embeddings \n",
    "\n",
    "using a pre-trained model to extract the feature embeddings for each frame and then storing in another location on the drive."
   ],
   "metadata": {
    "collapsed": false
   },
   "id": "a2a66a97b0456c50"
  },
  {
   "cell_type": "code",
   "execution_count": 2,
   "outputs": [
    {
     "ename": "ModuleNotFoundError",
     "evalue": "No module named 'cv2'",
     "output_type": "error",
     "traceback": [
      "\u001B[0;31m---------------------------------------------------------------------------\u001B[0m",
      "\u001B[0;31mModuleNotFoundError\u001B[0m                       Traceback (most recent call last)",
      "Cell \u001B[0;32mIn[2], line 1\u001B[0m\n\u001B[0;32m----> 1\u001B[0m \u001B[38;5;28;01mimport\u001B[39;00m \u001B[38;5;21;01mcv2\u001B[39;00m\n\u001B[1;32m      2\u001B[0m \u001B[38;5;28;01mfrom\u001B[39;00m \u001B[38;5;21;01mtorchvision\u001B[39;00m \u001B[38;5;28;01mimport\u001B[39;00m transforms\n\u001B[1;32m      4\u001B[0m \u001B[38;5;28;01mdef\u001B[39;00m \u001B[38;5;21mextract_frames\u001B[39m(video_path):\n",
      "\u001B[0;31mModuleNotFoundError\u001B[0m: No module named 'cv2'"
     ]
    }
   ],
   "source": [
    "import cv2\n",
    "from torchvision import transforms\n",
    "\n",
    "def extract_frames(video_path):\n",
    "    cap = cv2.VideoCapture(video_path)\n",
    "    frames = []\n",
    "    while cap.isOpened():\n",
    "        ret, frame = cap.read()\n",
    "        if not ret:\n",
    "            break\n",
    "        # Convert BGR (OpenCV default) to RGB\n",
    "        frame = cv2.cvtColor(frame, cv2.COLOR_BGR2RGB)\n",
    "        # Preprocess frame\n",
    "        frame = preprocess_image(frame)\n",
    "        frames.append(frame)\n",
    "    cap.release()\n",
    "    return frames\n",
    "\n",
    "def preprocess_image(frame):\n",
    "    preprocess = transforms.Compose([\n",
    "        transforms.ToPILImage(),\n",
    "        transforms.Resize(256),\n",
    "        transforms.CenterCrop(224),\n",
    "        transforms.ToTensor(),\n",
    "        transforms.Normalize(mean=[0.485, 0.456, 0.406], std=[0.229, 0.224, 0.225]),\n",
    "    ])\n",
    "    return preprocess(frame)\n"
   ],
   "metadata": {
    "collapsed": false,
    "ExecuteTime": {
     "end_time": "2024-05-22T10:20:10.005293Z",
     "start_time": "2024-05-22T10:20:09.886857Z"
    }
   },
   "id": "7f856b4be96b0ccf"
  },
  {
   "cell_type": "code",
   "execution_count": null,
   "id": "initial_id",
   "metadata": {
    "collapsed": true
   },
   "outputs": [],
   "source": [
    "import torchvision.models as models\n",
    "from torch import nn\n",
    "\n",
    "# Load the pre-trained ResNet model and remove the last classification layer\n",
    "model = models.resnet50(pretrained=True)\n",
    "model = nn.Sequential(*list(model.children())[:-1])\n",
    "model.eval()"
   ]
  },
  {
   "cell_type": "code",
   "execution_count": null,
   "outputs": [],
   "source": [
    "import torch\n",
    "import h5py\n",
    "import numpy as np\n",
    "\n",
    "SAVE_PATH = \"/content/drive/MyDrive/DownloadedTranscriptVideos\"\n",
    "OUTPUT_PATH = \"/content/drive/MyDrive/RESNETEmbeddings\"\n",
    "\n",
    "\n",
    "def process_video(video_id):\n",
    "    video_path = get_video_path(video_id)\n",
    "    frames = extract_frames(video_path)\n",
    "    embeddings = []\n",
    "\n",
    "    with torch.no_grad():\n",
    "        for frame in frames:\n",
    "            frame = frame.unsqueeze(0)  # Add batch dimension\n",
    "            embedding = model(frame)\n",
    "            embedding = embedding.view(embedding.size(0), -1)  # Flatten the features\n",
    "            embeddings.append(embedding.numpy())\n",
    "\n",
    "    # Save embeddings\n",
    "    save_embeddings(video_id, embeddings)\n",
    "\n",
    "def get_output_path(video_id):\n",
    "    return OUTPUT_PATH + \"/resnet50/\" + \"embeddings_\" + video_id + \".h5\"\n",
    "\n",
    "def save_embeddings(video_id, embeddings):\n",
    "    output_file = get_output_path(video_id)\n",
    "    with h5py.File(output_file, 'w') as h5f:\n",
    "        h5f.create_dataset('embeddings', data=np.stack(embeddings))\n",
    "\n",
    "def get_video_path(video_id):\n",
    "    return SAVE_PATH + \"/video_\" + video_id + \".mp4\""
   ],
   "metadata": {
    "collapsed": false
   },
   "id": "fb1a790a158dcdb1"
  },
  {
   "cell_type": "code",
   "execution_count": null,
   "outputs": [],
   "source": [
    "import os\n",
    "\n",
    "videos_and_scores_df = pd.read_csv(\"videos_and_scores.csv\")\n",
    "for index, row in videos_and_scores_df.iterrows():\n",
    "    \n",
    "    embedding_path  = get_output_path(row['video_id'])\n",
    "    \n",
    "    if os.path.exists(embedding_path):\n",
    "        print(\"Embeddings already extracted - continuing \")\n",
    "        continue\n",
    "    \n",
    "    \n",
    "    if not os.path.exists(get_video_path(row['video_id'])):\n",
    "        print(\"Video file does not exist - continueing\")\n",
    "        continue \n",
    "    \n",
    "    print(f\"Processing video - {row['video_id']}\")\n",
    "    process_video(row['video_id'])"
   ],
   "metadata": {
    "collapsed": false
   },
   "id": "3c76f9418567b432"
  }
 ],
 "metadata": {
  "kernelspec": {
   "display_name": "Python 3",
   "language": "python",
   "name": "python3"
  },
  "language_info": {
   "codemirror_mode": {
    "name": "ipython",
    "version": 2
   },
   "file_extension": ".py",
   "mimetype": "text/x-python",
   "name": "python",
   "nbconvert_exporter": "python",
   "pygments_lexer": "ipython2",
   "version": "2.7.6"
  }
 },
 "nbformat": 4,
 "nbformat_minor": 5
}
