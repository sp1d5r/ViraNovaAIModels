{
 "cells": [
  {
   "cell_type": "code",
   "execution_count": 1,
   "id": "initial_id",
   "metadata": {
    "collapsed": true,
    "ExecuteTime": {
     "end_time": "2024-05-29T13:55:46.742888Z",
     "start_time": "2024-05-29T13:55:46.432341Z"
    }
   },
   "outputs": [],
   "source": [
    "import pandas as pd"
   ]
  },
  {
   "cell_type": "code",
   "execution_count": 2,
   "outputs": [],
   "source": [
    "transcript_dataset = pd.read_csv(\"./datasets/transcripts_and_times.csv\")"
   ],
   "metadata": {
    "collapsed": false,
    "ExecuteTime": {
     "end_time": "2024-05-29T13:56:08.478876Z",
     "start_time": "2024-05-29T13:56:08.260873Z"
    }
   },
   "id": "f83eb6fd3496120"
  },
  {
   "cell_type": "code",
   "execution_count": 3,
   "outputs": [
    {
     "data": {
      "text/plain": "        Unnamed: 0   transcript_id  time_start_ms  d_duration_ms  \\\n0                0   -Iy7x7Acwlo_1            799           4761   \n1                1   -Iy7x7Acwlo_2           2550           3010   \n2                2   -Iy7x7Acwlo_3           2560           4400   \n3                3   -Iy7x7Acwlo_4           5550           1410   \n4                4   -Iy7x7Acwlo_5           5560           3760   \n...            ...             ...            ...            ...   \n104196      104196  jL_Cze8wOT4_24          29990           1930   \n104197      104197  jL_Cze8wOT4_25          30000           5840   \n104198      104198  jL_Cze8wOT4_26          31910           3930   \n104199      104199  jL_Cze8wOT4_27          31920           3920   \n104200      104200  jL_Cze8wOT4_29          35880           3000   \n\n                                                     segs  key     video_id  \\\n0       [{'utf8': 'what', 'acAsrConf': 0}, {'utf8': \" ...    1  -Iy7x7Acwlo   \n1                                        [{'utf8': '\\n'}]    2  -Iy7x7Acwlo   \n2       [{'utf8': 'up', 'acAsrConf': 0}, {'utf8': ' oh...    3  -Iy7x7Acwlo   \n3                                        [{'utf8': '\\n'}]    4  -Iy7x7Acwlo   \n4       [{'utf8': 'no', 'acAsrConf': 0}, {'utf8': ' no...    5  -Iy7x7Acwlo   \n...                                                   ...  ...          ...   \n104196                                   [{'utf8': '\\n'}]   24  jL_Cze8wOT4   \n104197  [{'utf8': 'I', 'acAsrConf': 248}, {'utf8': ' a...   25  jL_Cze8wOT4   \n104198                                   [{'utf8': '\\n'}]   26  jL_Cze8wOT4   \n104199  [{'utf8': 'because', 'acAsrConf': 248}, {'utf8...   27  jL_Cze8wOT4   \n104200            [{'utf8': 'foreign', 'acAsrConf': 175}]   29  jL_Cze8wOT4   \n\n       language  \n0          a.en  \n1          a.en  \n2          a.en  \n3          a.en  \n4          a.en  \n...         ...  \n104196     a.en  \n104197     a.en  \n104198     a.en  \n104199     a.en  \n104200     a.en  \n\n[104201 rows x 8 columns]",
      "text/html": "<div>\n<style scoped>\n    .dataframe tbody tr th:only-of-type {\n        vertical-align: middle;\n    }\n\n    .dataframe tbody tr th {\n        vertical-align: top;\n    }\n\n    .dataframe thead th {\n        text-align: right;\n    }\n</style>\n<table border=\"1\" class=\"dataframe\">\n  <thead>\n    <tr style=\"text-align: right;\">\n      <th></th>\n      <th>Unnamed: 0</th>\n      <th>transcript_id</th>\n      <th>time_start_ms</th>\n      <th>d_duration_ms</th>\n      <th>segs</th>\n      <th>key</th>\n      <th>video_id</th>\n      <th>language</th>\n    </tr>\n  </thead>\n  <tbody>\n    <tr>\n      <th>0</th>\n      <td>0</td>\n      <td>-Iy7x7Acwlo_1</td>\n      <td>799</td>\n      <td>4761</td>\n      <td>[{'utf8': 'what', 'acAsrConf': 0}, {'utf8': \" ...</td>\n      <td>1</td>\n      <td>-Iy7x7Acwlo</td>\n      <td>a.en</td>\n    </tr>\n    <tr>\n      <th>1</th>\n      <td>1</td>\n      <td>-Iy7x7Acwlo_2</td>\n      <td>2550</td>\n      <td>3010</td>\n      <td>[{'utf8': '\\n'}]</td>\n      <td>2</td>\n      <td>-Iy7x7Acwlo</td>\n      <td>a.en</td>\n    </tr>\n    <tr>\n      <th>2</th>\n      <td>2</td>\n      <td>-Iy7x7Acwlo_3</td>\n      <td>2560</td>\n      <td>4400</td>\n      <td>[{'utf8': 'up', 'acAsrConf': 0}, {'utf8': ' oh...</td>\n      <td>3</td>\n      <td>-Iy7x7Acwlo</td>\n      <td>a.en</td>\n    </tr>\n    <tr>\n      <th>3</th>\n      <td>3</td>\n      <td>-Iy7x7Acwlo_4</td>\n      <td>5550</td>\n      <td>1410</td>\n      <td>[{'utf8': '\\n'}]</td>\n      <td>4</td>\n      <td>-Iy7x7Acwlo</td>\n      <td>a.en</td>\n    </tr>\n    <tr>\n      <th>4</th>\n      <td>4</td>\n      <td>-Iy7x7Acwlo_5</td>\n      <td>5560</td>\n      <td>3760</td>\n      <td>[{'utf8': 'no', 'acAsrConf': 0}, {'utf8': ' no...</td>\n      <td>5</td>\n      <td>-Iy7x7Acwlo</td>\n      <td>a.en</td>\n    </tr>\n    <tr>\n      <th>...</th>\n      <td>...</td>\n      <td>...</td>\n      <td>...</td>\n      <td>...</td>\n      <td>...</td>\n      <td>...</td>\n      <td>...</td>\n      <td>...</td>\n    </tr>\n    <tr>\n      <th>104196</th>\n      <td>104196</td>\n      <td>jL_Cze8wOT4_24</td>\n      <td>29990</td>\n      <td>1930</td>\n      <td>[{'utf8': '\\n'}]</td>\n      <td>24</td>\n      <td>jL_Cze8wOT4</td>\n      <td>a.en</td>\n    </tr>\n    <tr>\n      <th>104197</th>\n      <td>104197</td>\n      <td>jL_Cze8wOT4_25</td>\n      <td>30000</td>\n      <td>5840</td>\n      <td>[{'utf8': 'I', 'acAsrConf': 248}, {'utf8': ' a...</td>\n      <td>25</td>\n      <td>jL_Cze8wOT4</td>\n      <td>a.en</td>\n    </tr>\n    <tr>\n      <th>104198</th>\n      <td>104198</td>\n      <td>jL_Cze8wOT4_26</td>\n      <td>31910</td>\n      <td>3930</td>\n      <td>[{'utf8': '\\n'}]</td>\n      <td>26</td>\n      <td>jL_Cze8wOT4</td>\n      <td>a.en</td>\n    </tr>\n    <tr>\n      <th>104199</th>\n      <td>104199</td>\n      <td>jL_Cze8wOT4_27</td>\n      <td>31920</td>\n      <td>3920</td>\n      <td>[{'utf8': 'because', 'acAsrConf': 248}, {'utf8...</td>\n      <td>27</td>\n      <td>jL_Cze8wOT4</td>\n      <td>a.en</td>\n    </tr>\n    <tr>\n      <th>104200</th>\n      <td>104200</td>\n      <td>jL_Cze8wOT4_29</td>\n      <td>35880</td>\n      <td>3000</td>\n      <td>[{'utf8': 'foreign', 'acAsrConf': 175}]</td>\n      <td>29</td>\n      <td>jL_Cze8wOT4</td>\n      <td>a.en</td>\n    </tr>\n  </tbody>\n</table>\n<p>104201 rows × 8 columns</p>\n</div>"
     },
     "execution_count": 3,
     "metadata": {},
     "output_type": "execute_result"
    }
   ],
   "source": [
    "transcript_dataset"
   ],
   "metadata": {
    "collapsed": false,
    "ExecuteTime": {
     "end_time": "2024-05-29T13:56:10.059545Z",
     "start_time": "2024-05-29T13:56:10.010328Z"
    }
   },
   "id": "b8a4dd10b8d2131d"
  },
  {
   "cell_type": "code",
   "execution_count": 8,
   "outputs": [],
   "source": [
    "import pandas as pd\n",
    "import ast\n",
    "\n",
    "# Load your DataFrame\n",
    "df = pd.read_csv(\"./datasets/transcripts_and_times.csv\")\n",
    "\n",
    "# Safely evaluate the stringified 'segs' JSON objects\n",
    "df['segs'] = df['segs'].apply(ast.literal_eval)\n",
    "\n",
    "# Calculate start and end frames for segments\n",
    "df['frame_start'] = (df['time_start_ms'] / 1000 * 10).astype(int)\n",
    "df['frame_end'] = ((df['time_start_ms'] + df['d_duration_ms']) / 1000 * 10).astype(int)\n",
    "\n",
    "# Function to expand segments and calculate word-specific frames\n",
    "def expand_segments(row):\n",
    "    segments = row['segs']\n",
    "    results = []\n",
    "    current_start = row['frame_start']\n",
    "    for i, seg in enumerate(segments):\n",
    "        word = seg['utf8']\n",
    "        start_frame = current_start + int(seg.get('tOffsetMs', 0) / 1000 * 10)\n",
    "        # Determine end frame based on the next word's offset or segment's end if it's the last word\n",
    "        if i + 1 < len(segments):\n",
    "            end_frame = current_start + int(segments[i + 1].get('tOffsetMs', 0) / 1000 * 10)\n",
    "        else:\n",
    "            end_frame = row['frame_end']\n",
    "        results.append({'video_id': row['video_id'], 'word': word, 'start_frame': start_frame, 'end_frame': end_frame})\n",
    "    return results\n",
    "\n",
    "# Apply function to each row and combine results\n",
    "expanded_words = df.apply(expand_segments, axis=1).explode().dropna().apply(pd.Series)"
   ],
   "metadata": {
    "collapsed": false,
    "ExecuteTime": {
     "end_time": "2024-05-29T15:17:56.644989Z",
     "start_time": "2024-05-29T15:17:22.876540Z"
    }
   },
   "id": "b6b27d16e300e737"
  },
  {
   "cell_type": "code",
   "execution_count": 11,
   "outputs": [
    {
     "data": {
      "text/plain": "           video_id     word  start_frame  end_frame\n0       -Iy7x7Acwlo     what            7          9\n0       -Iy7x7Acwlo   you're            9         11\n0       -Iy7x7Acwlo     join           11         13\n0       -Iy7x7Acwlo      the           13         14\n0       -Iy7x7Acwlo     disc           14         18\n...             ...      ...          ...        ...\n104199  jL_Cze8wOT4   moving          326        328\n104199  jL_Cze8wOT4      too          328        331\n104199  jL_Cze8wOT4     fast          331        335\n104199  jL_Cze8wOT4   enough          335        358\n104200  jL_Cze8wOT4  foreign          358        388\n\n[379696 rows x 4 columns]",
      "text/html": "<div>\n<style scoped>\n    .dataframe tbody tr th:only-of-type {\n        vertical-align: middle;\n    }\n\n    .dataframe tbody tr th {\n        vertical-align: top;\n    }\n\n    .dataframe thead th {\n        text-align: right;\n    }\n</style>\n<table border=\"1\" class=\"dataframe\">\n  <thead>\n    <tr style=\"text-align: right;\">\n      <th></th>\n      <th>video_id</th>\n      <th>word</th>\n      <th>start_frame</th>\n      <th>end_frame</th>\n    </tr>\n  </thead>\n  <tbody>\n    <tr>\n      <th>0</th>\n      <td>-Iy7x7Acwlo</td>\n      <td>what</td>\n      <td>7</td>\n      <td>9</td>\n    </tr>\n    <tr>\n      <th>0</th>\n      <td>-Iy7x7Acwlo</td>\n      <td>you're</td>\n      <td>9</td>\n      <td>11</td>\n    </tr>\n    <tr>\n      <th>0</th>\n      <td>-Iy7x7Acwlo</td>\n      <td>join</td>\n      <td>11</td>\n      <td>13</td>\n    </tr>\n    <tr>\n      <th>0</th>\n      <td>-Iy7x7Acwlo</td>\n      <td>the</td>\n      <td>13</td>\n      <td>14</td>\n    </tr>\n    <tr>\n      <th>0</th>\n      <td>-Iy7x7Acwlo</td>\n      <td>disc</td>\n      <td>14</td>\n      <td>18</td>\n    </tr>\n    <tr>\n      <th>...</th>\n      <td>...</td>\n      <td>...</td>\n      <td>...</td>\n      <td>...</td>\n    </tr>\n    <tr>\n      <th>104199</th>\n      <td>jL_Cze8wOT4</td>\n      <td>moving</td>\n      <td>326</td>\n      <td>328</td>\n    </tr>\n    <tr>\n      <th>104199</th>\n      <td>jL_Cze8wOT4</td>\n      <td>too</td>\n      <td>328</td>\n      <td>331</td>\n    </tr>\n    <tr>\n      <th>104199</th>\n      <td>jL_Cze8wOT4</td>\n      <td>fast</td>\n      <td>331</td>\n      <td>335</td>\n    </tr>\n    <tr>\n      <th>104199</th>\n      <td>jL_Cze8wOT4</td>\n      <td>enough</td>\n      <td>335</td>\n      <td>358</td>\n    </tr>\n    <tr>\n      <th>104200</th>\n      <td>jL_Cze8wOT4</td>\n      <td>foreign</td>\n      <td>358</td>\n      <td>388</td>\n    </tr>\n  </tbody>\n</table>\n<p>379696 rows × 4 columns</p>\n</div>"
     },
     "execution_count": 11,
     "metadata": {},
     "output_type": "execute_result"
    }
   ],
   "source": [
    "expanded_words[expanded_words['word'] != '\\n']"
   ],
   "metadata": {
    "collapsed": false,
    "ExecuteTime": {
     "end_time": "2024-05-29T15:19:36.324440Z",
     "start_time": "2024-05-29T15:19:36.281990Z"
    }
   },
   "id": "5bfb16bbfcf7df04"
  },
  {
   "cell_type": "code",
   "execution_count": null,
   "outputs": [],
   "source": [
    "df"
   ],
   "metadata": {
    "collapsed": false,
    "is_executing": true
   },
   "id": "f950ba9e97eb9813"
  },
  {
   "cell_type": "code",
   "execution_count": null,
   "outputs": [],
   "source": [],
   "metadata": {
    "collapsed": false,
    "is_executing": true
   },
   "id": "9a76a3ad81f6084d"
  },
  {
   "cell_type": "code",
   "execution_count": null,
   "outputs": [],
   "source": [
    "ddf"
   ],
   "metadata": {
    "collapsed": false,
    "is_executing": true
   },
   "id": "9d734a48c81b9dbe"
  },
  {
   "cell_type": "code",
   "execution_count": null,
   "outputs": [],
   "source": [
    "print(\"here\")"
   ],
   "metadata": {
    "collapsed": false,
    "is_executing": true
   },
   "id": "aa9016ae3656fa5d"
  },
  {
   "cell_type": "code",
   "execution_count": null,
   "outputs": [],
   "source": [],
   "metadata": {
    "collapsed": false
   },
   "id": "74327e8f407212a3"
  }
 ],
 "metadata": {
  "kernelspec": {
   "display_name": "Python 3",
   "language": "python",
   "name": "python3"
  },
  "language_info": {
   "codemirror_mode": {
    "name": "ipython",
    "version": 2
   },
   "file_extension": ".py",
   "mimetype": "text/x-python",
   "name": "python",
   "nbconvert_exporter": "python",
   "pygments_lexer": "ipython2",
   "version": "2.7.6"
  }
 },
 "nbformat": 4,
 "nbformat_minor": 5
}
