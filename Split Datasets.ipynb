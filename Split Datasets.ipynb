{
 "cells": [
  {
   "cell_type": "code",
   "execution_count": 18,
   "id": "initial_id",
   "metadata": {
    "collapsed": true,
    "ExecuteTime": {
     "end_time": "2024-05-22T11:03:42.311766Z",
     "start_time": "2024-05-22T11:03:42.287712Z"
    }
   },
   "outputs": [],
   "source": [
    "import pandas as pd\n",
    "\n",
    "# Load the data from a CSV file\n",
    "file_path = 'videos_and_scores.csv'\n",
    "data = pd.read_csv(file_path)"
   ]
  },
  {
   "cell_type": "code",
   "execution_count": 19,
   "outputs": [
    {
     "data": {
      "text/plain": "      Unnamed: 0     video_id  virality_score_%  engagement_score_%  \\\n0              0  -Iy7x7Acwlo         57.467125           75.985492   \n1              1  PBJeyIz5c-Q         57.459321           75.985490   \n2              2  vOv6uCCgHjw         51.944893           75.985465   \n3              3  TIEv99KiE_E         52.219398           75.985467   \n4              4  f8UTwP52A-U         57.657949           75.985539   \n...          ...          ...               ...                 ...   \n3541        3812  fBKyPNl-RoM        100.000000           75.515212   \n3542        3813  tH07MbOXoHE        100.000000           78.341940   \n3543        3814  jKoWtXPLTmQ        100.000000           75.846681   \n3544        3815  9VjPMIbqDnQ         96.699273           72.852072   \n3545        3816  jL_Cze8wOT4        100.000000           80.957965   \n\n                                             transcript  \n0     what you're join the disc shut the  up oh wait...  \n1     guess how much I weigh right now how  much you...  \n2     at the time of this when I heard about  this i...  \n3     feel me this is like so just cool and  just li...  \n4     you are no longer talking to kasing that  gett...  \n...                                                 ...  \n3541  any good stories about kg and being a  trash t...  \n3542  he'll come to shoot around he'll be like  yeah...  \n3543  that's that Meme that's floating around  with ...  \n3544  adding Rudy over the summer talk a  little bit...  \n3545  think about this Kevin Garnett one of  the gre...  \n\n[3546 rows x 5 columns]",
      "text/html": "<div>\n<style scoped>\n    .dataframe tbody tr th:only-of-type {\n        vertical-align: middle;\n    }\n\n    .dataframe tbody tr th {\n        vertical-align: top;\n    }\n\n    .dataframe thead th {\n        text-align: right;\n    }\n</style>\n<table border=\"1\" class=\"dataframe\">\n  <thead>\n    <tr style=\"text-align: right;\">\n      <th></th>\n      <th>Unnamed: 0</th>\n      <th>video_id</th>\n      <th>virality_score_%</th>\n      <th>engagement_score_%</th>\n      <th>transcript</th>\n    </tr>\n  </thead>\n  <tbody>\n    <tr>\n      <th>0</th>\n      <td>0</td>\n      <td>-Iy7x7Acwlo</td>\n      <td>57.467125</td>\n      <td>75.985492</td>\n      <td>what you're join the disc shut the  up oh wait...</td>\n    </tr>\n    <tr>\n      <th>1</th>\n      <td>1</td>\n      <td>PBJeyIz5c-Q</td>\n      <td>57.459321</td>\n      <td>75.985490</td>\n      <td>guess how much I weigh right now how  much you...</td>\n    </tr>\n    <tr>\n      <th>2</th>\n      <td>2</td>\n      <td>vOv6uCCgHjw</td>\n      <td>51.944893</td>\n      <td>75.985465</td>\n      <td>at the time of this when I heard about  this i...</td>\n    </tr>\n    <tr>\n      <th>3</th>\n      <td>3</td>\n      <td>TIEv99KiE_E</td>\n      <td>52.219398</td>\n      <td>75.985467</td>\n      <td>feel me this is like so just cool and  just li...</td>\n    </tr>\n    <tr>\n      <th>4</th>\n      <td>4</td>\n      <td>f8UTwP52A-U</td>\n      <td>57.657949</td>\n      <td>75.985539</td>\n      <td>you are no longer talking to kasing that  gett...</td>\n    </tr>\n    <tr>\n      <th>...</th>\n      <td>...</td>\n      <td>...</td>\n      <td>...</td>\n      <td>...</td>\n      <td>...</td>\n    </tr>\n    <tr>\n      <th>3541</th>\n      <td>3812</td>\n      <td>fBKyPNl-RoM</td>\n      <td>100.000000</td>\n      <td>75.515212</td>\n      <td>any good stories about kg and being a  trash t...</td>\n    </tr>\n    <tr>\n      <th>3542</th>\n      <td>3813</td>\n      <td>tH07MbOXoHE</td>\n      <td>100.000000</td>\n      <td>78.341940</td>\n      <td>he'll come to shoot around he'll be like  yeah...</td>\n    </tr>\n    <tr>\n      <th>3543</th>\n      <td>3814</td>\n      <td>jKoWtXPLTmQ</td>\n      <td>100.000000</td>\n      <td>75.846681</td>\n      <td>that's that Meme that's floating around  with ...</td>\n    </tr>\n    <tr>\n      <th>3544</th>\n      <td>3815</td>\n      <td>9VjPMIbqDnQ</td>\n      <td>96.699273</td>\n      <td>72.852072</td>\n      <td>adding Rudy over the summer talk a  little bit...</td>\n    </tr>\n    <tr>\n      <th>3545</th>\n      <td>3816</td>\n      <td>jL_Cze8wOT4</td>\n      <td>100.000000</td>\n      <td>80.957965</td>\n      <td>think about this Kevin Garnett one of  the gre...</td>\n    </tr>\n  </tbody>\n</table>\n<p>3546 rows × 5 columns</p>\n</div>"
     },
     "execution_count": 19,
     "metadata": {},
     "output_type": "execute_result"
    }
   ],
   "source": [
    "data"
   ],
   "metadata": {
    "collapsed": false,
    "ExecuteTime": {
     "end_time": "2024-05-22T11:03:42.701740Z",
     "start_time": "2024-05-22T11:03:42.695010Z"
    }
   },
   "id": "49fedc30b44d81fc"
  },
  {
   "cell_type": "code",
   "execution_count": 20,
   "outputs": [],
   "source": [
    "from sklearn.model_selection import train_test_split\n",
    "\n",
    "# Split the data into training and testing sets\n",
    "train_and_validation_set, test_set = train_test_split(data, test_size=0.2, random_state=42)  # 20% for testing, 80% for training\n",
    "\n",
    "# Split the data into training and validation sets\n",
    "train_set, validation_set = train_test_split(train_and_validation_set, test_size=0.2, random_state=42)  # 20% for validation, 80% for training"
   ],
   "metadata": {
    "collapsed": false,
    "ExecuteTime": {
     "end_time": "2024-05-22T11:03:43.647333Z",
     "start_time": "2024-05-22T11:03:43.630764Z"
    }
   },
   "id": "c2e53540a15d35da"
  },
  {
   "cell_type": "code",
   "execution_count": 21,
   "outputs": [
    {
     "data": {
      "text/plain": "      Unnamed: 0     video_id  virality_score_%  engagement_score_%  \\\n518          524  HnEGqjkeH6c         99.999995           75.993502   \n1111        1131  ePFTICqq1u8         67.986441           83.800415   \n2268        2394  sshzL5Sc-qU         90.413671           73.208782   \n335          339  pq6-RRuv-Kg         67.207238           75.933038   \n42            42  uXiyKzhVIpQ         63.271567           75.985581   \n...          ...          ...               ...                 ...   \n1610        1636  ptET7rXY0BM        100.000000           76.054631   \n2072        2182  n_ht9CrAsnY        100.000000           59.281947   \n1114        1134  HGKUhttjWFQ         95.025633           79.036121   \n1314        1336  ZEJrPfn-VsA         50.810413           84.680330   \n2754        2953  sRPbSBFoIHo         51.259785           75.779823   \n\n                                             transcript  \n518   [Music] I don't know how uh I'm shooting every...  \n1111  my brother has fake fights in the shower  and ...  \n2268  you got to test out things to see what  you ar...  \n335   I was at birthday party oh how was the  birthd...  \n42    what you like to do I just work I be  playing ...  \n...                                                 ...  \n1610  did you ever think he would be gay the  moment...  \n2072    no answer  how should I feel creatures lie here  \n1114  what's your darkest secret I'm ready go  on I ...  \n1314  if we all die today who's most likely to  end ...  \n2754  I believe connection is like your spirit  reco...  \n\n[568 rows x 5 columns]",
      "text/html": "<div>\n<style scoped>\n    .dataframe tbody tr th:only-of-type {\n        vertical-align: middle;\n    }\n\n    .dataframe tbody tr th {\n        vertical-align: top;\n    }\n\n    .dataframe thead th {\n        text-align: right;\n    }\n</style>\n<table border=\"1\" class=\"dataframe\">\n  <thead>\n    <tr style=\"text-align: right;\">\n      <th></th>\n      <th>Unnamed: 0</th>\n      <th>video_id</th>\n      <th>virality_score_%</th>\n      <th>engagement_score_%</th>\n      <th>transcript</th>\n    </tr>\n  </thead>\n  <tbody>\n    <tr>\n      <th>518</th>\n      <td>524</td>\n      <td>HnEGqjkeH6c</td>\n      <td>99.999995</td>\n      <td>75.993502</td>\n      <td>[Music] I don't know how uh I'm shooting every...</td>\n    </tr>\n    <tr>\n      <th>1111</th>\n      <td>1131</td>\n      <td>ePFTICqq1u8</td>\n      <td>67.986441</td>\n      <td>83.800415</td>\n      <td>my brother has fake fights in the shower  and ...</td>\n    </tr>\n    <tr>\n      <th>2268</th>\n      <td>2394</td>\n      <td>sshzL5Sc-qU</td>\n      <td>90.413671</td>\n      <td>73.208782</td>\n      <td>you got to test out things to see what  you ar...</td>\n    </tr>\n    <tr>\n      <th>335</th>\n      <td>339</td>\n      <td>pq6-RRuv-Kg</td>\n      <td>67.207238</td>\n      <td>75.933038</td>\n      <td>I was at birthday party oh how was the  birthd...</td>\n    </tr>\n    <tr>\n      <th>42</th>\n      <td>42</td>\n      <td>uXiyKzhVIpQ</td>\n      <td>63.271567</td>\n      <td>75.985581</td>\n      <td>what you like to do I just work I be  playing ...</td>\n    </tr>\n    <tr>\n      <th>...</th>\n      <td>...</td>\n      <td>...</td>\n      <td>...</td>\n      <td>...</td>\n      <td>...</td>\n    </tr>\n    <tr>\n      <th>1610</th>\n      <td>1636</td>\n      <td>ptET7rXY0BM</td>\n      <td>100.000000</td>\n      <td>76.054631</td>\n      <td>did you ever think he would be gay the  moment...</td>\n    </tr>\n    <tr>\n      <th>2072</th>\n      <td>2182</td>\n      <td>n_ht9CrAsnY</td>\n      <td>100.000000</td>\n      <td>59.281947</td>\n      <td>no answer  how should I feel creatures lie here</td>\n    </tr>\n    <tr>\n      <th>1114</th>\n      <td>1134</td>\n      <td>HGKUhttjWFQ</td>\n      <td>95.025633</td>\n      <td>79.036121</td>\n      <td>what's your darkest secret I'm ready go  on I ...</td>\n    </tr>\n    <tr>\n      <th>1314</th>\n      <td>1336</td>\n      <td>ZEJrPfn-VsA</td>\n      <td>50.810413</td>\n      <td>84.680330</td>\n      <td>if we all die today who's most likely to  end ...</td>\n    </tr>\n    <tr>\n      <th>2754</th>\n      <td>2953</td>\n      <td>sRPbSBFoIHo</td>\n      <td>51.259785</td>\n      <td>75.779823</td>\n      <td>I believe connection is like your spirit  reco...</td>\n    </tr>\n  </tbody>\n</table>\n<p>568 rows × 5 columns</p>\n</div>"
     },
     "execution_count": 21,
     "metadata": {},
     "output_type": "execute_result"
    }
   ],
   "source": [
    "validation_set"
   ],
   "metadata": {
    "collapsed": false,
    "ExecuteTime": {
     "end_time": "2024-05-22T11:03:44.837940Z",
     "start_time": "2024-05-22T11:03:44.830227Z"
    }
   },
   "id": "8042f52c4ba1522c"
  },
  {
   "cell_type": "code",
   "execution_count": 22,
   "outputs": [],
   "source": [
    "# Save the training set\n",
    "train_set.to_csv('train_set.csv', index=False)\n",
    "\n",
    "# Save the test set\n",
    "test_set.to_csv('test_set.csv', index=False)\n",
    "\n",
    "# Save the validation set \n",
    "validation_set.to_csv('validation_set.csv', index=False)"
   ],
   "metadata": {
    "collapsed": false,
    "ExecuteTime": {
     "end_time": "2024-05-22T11:03:45.691346Z",
     "start_time": "2024-05-22T11:03:45.615556Z"
    }
   },
   "id": "f9d33c5539ba951b"
  }
 ],
 "metadata": {
  "kernelspec": {
   "display_name": "Python 3",
   "language": "python",
   "name": "python3"
  },
  "language_info": {
   "codemirror_mode": {
    "name": "ipython",
    "version": 2
   },
   "file_extension": ".py",
   "mimetype": "text/x-python",
   "name": "python",
   "nbconvert_exporter": "python",
   "pygments_lexer": "ipython2",
   "version": "2.7.6"
  }
 },
 "nbformat": 4,
 "nbformat_minor": 5
}
